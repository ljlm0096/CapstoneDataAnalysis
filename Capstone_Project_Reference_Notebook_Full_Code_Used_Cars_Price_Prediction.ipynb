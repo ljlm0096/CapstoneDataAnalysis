{
  "cells": [
    {
      "cell_type": "markdown",
      "metadata": {
        "id": "9qwNfrVxzqUK"
      },
      "source": [
        "# **Used Cars Price Prediction**"
      ]
    },
    {
      "cell_type": "markdown",
      "metadata": {
        "id": "7AYx75_WoxUj"
      },
      "source": [
        "## **Problem Definition**\n",
        "\n",
        "### **The Context:**\n",
        "\n",
        " - Why is this problem important to solve?\n",
        "\n",
        "### **The objective:**\n",
        "\n",
        " - What is the intended goal?\n",
        "\n",
        "### **The key questions:**\n",
        "\n",
        "- What are the key questions that need to be answered?\n",
        "\n",
        "### **The problem formulation**:\n",
        "\n",
        "- What is it that we are trying to solve using data science?"
      ]
    },
    {
      "cell_type": "markdown",
      "metadata": {
        "id": "FWxSdWjGzqUL"
      },
      "source": [
        "### **Data Dictionary**\n",
        "\n",
        "**S.No.** : Serial Number\n",
        "\n",
        "**Name** : Name of the car which includes Brand name and Model name\n",
        "\n",
        "**Location** : The location in which the car is being sold or is available for purchase (Cities)\n",
        "\n",
        "**Year** : Manufacturing year of the car\n",
        "\n",
        "**Kilometers_driven** : The total kilometers driven in the car by the previous owner(s) in KM\n",
        "\n",
        "**Fuel_Type** : The type of fuel used by the car (Petrol, Diesel, Electric, CNG, LPG)\n",
        "\n",
        "**Transmission** : The type of transmission used by the car (Automatic / Manual)\n",
        "\n",
        "**Owner** : Type of ownership\n",
        "\n",
        "**Mileage** : The standard mileage offered by the car company in kmpl or km/kg\n",
        "\n",
        "**Engine** : The displacement volume of the engine in CC\n",
        "\n",
        "**Power** : The maximum power of the engine in bhp\n",
        "\n",
        "**Seats** : The number of seats in the car\n",
        "\n",
        "**New_Price** : The price of a new car of the same model in INR 100,000\n",
        "\n",
        "**Price** : The price of the used car in INR 100,000 (**Target Variable**)"
      ]
    },
    {
      "cell_type": "markdown",
      "metadata": {
        "id": "rlLoEhsbtOSg"
      },
      "source": [
        "### **Loading libraries**"
      ]
    },
    {
      "cell_type": "code",
      "execution_count": null,
      "metadata": {
        "id": "8J9KZGl9tOSh"
      },
      "outputs": [],
      "source": []
    },
    {
      "cell_type": "markdown",
      "metadata": {
        "id": "baG7rS5FtOSh"
      },
      "source": [
        "### **Let us load the data**"
      ]
    },
    {
      "cell_type": "code",
      "execution_count": null,
      "metadata": {
        "id": "flK0muyhtOSi"
      },
      "outputs": [],
      "source": []
    },
    {
      "cell_type": "markdown",
      "metadata": {
        "id": "C-vYvvwEj6wz"
      },
      "source": [
        "## Data Overview"
      ]
    },
    {
      "cell_type": "markdown",
      "metadata": {
        "id": "eUxpRqnLj6wz"
      },
      "source": [
        "- Observations\n",
        "- Sanity checks"
      ]
    },
    {
      "cell_type": "code",
      "execution_count": null,
      "metadata": {
        "id": "2qLw_c1Jj6wz"
      },
      "outputs": [],
      "source": []
    },
    {
      "cell_type": "markdown",
      "metadata": {
        "id": "crnR9cphIrct"
      },
      "source": [
        "## **Exploratory Data Analysis**"
      ]
    },
    {
      "cell_type": "markdown",
      "metadata": {
        "id": "WvetePFOj6w0"
      },
      "source": [
        "- EDA is an important part of any project involving data.\n",
        "- It is important to investigate and understand the data better before building a model with it.\n",
        "- A few questions have been mentioned below which will help you approach the analysis in the right manner and generate insights from the data.\n",
        "- A thorough analysis of the data, in addition to the questions mentioned below, should be done."
      ]
    },
    {
      "cell_type": "markdown",
      "metadata": {
        "id": "foDG3YDDtOSm"
      },
      "source": [
        "**Questions:**\n",
        "\n",
        "1. What is the summary statistics of the data? Explore summary statistics for numerical variables and the categorical variables\n",
        "2. Find out number of unique observations in each category of categorical columns? Write your findings/observations/insights\n",
        "3. Check the extreme values in different columns of the given data and write down the observtions? Remove the data where the values are un-realistic"
      ]
    },
    {
      "cell_type": "code",
      "execution_count": null,
      "metadata": {
        "id": "B54IaafQj6w0"
      },
      "outputs": [],
      "source": []
    },
    {
      "cell_type": "markdown",
      "metadata": {
        "id": "7Rwx-1ZuhU3D"
      },
      "source": [
        "## **Univariate Analysis**"
      ]
    },
    {
      "cell_type": "markdown",
      "metadata": {
        "id": "XYmSIliuIrcy"
      },
      "source": [
        "**Questions:**\n",
        "\n",
        "1. Do univariate analysis for numerical and categorical variables?\n",
        "2. Check the distribution of the different variables? is the distributions skewed?\n",
        "3. Do we need to do log_transformation, if so for what variables we need to do?\n",
        "4. Perfoem the log_transformation(if needed) and write down your observations?"
      ]
    },
    {
      "cell_type": "code",
      "execution_count": null,
      "metadata": {
        "id": "KkKnOKT9j6w1"
      },
      "outputs": [],
      "source": []
    },
    {
      "cell_type": "markdown",
      "metadata": {
        "id": "beo_tDmVhU3-"
      },
      "source": [
        "## **Bivariate Analysis**"
      ]
    },
    {
      "cell_type": "markdown",
      "metadata": {
        "id": "v1JvMEDfj6w1"
      },
      "source": [
        "**Questions:**\n",
        "\n",
        "1. Plot a scatter plot for the log transformed values(if log_transformation done in previous steps)?\n",
        "2. What can we infer form the correlation heatmap? Is there correlation between the dependent and independent variables?\n",
        "3. Plot a box plot for target variable and categorical variable 'Location' and write your observations?"
      ]
    },
    {
      "cell_type": "code",
      "execution_count": null,
      "metadata": {
        "id": "sUUU3zskj6w1"
      },
      "outputs": [],
      "source": []
    },
    {
      "cell_type": "markdown",
      "metadata": {
        "id": "70E7M7KJtOS1"
      },
      "source": [
        "### **Feature Engineering**"
      ]
    },
    {
      "cell_type": "markdown",
      "metadata": {
        "id": "TD7mqJI6tOS1"
      },
      "source": [
        "**Think about it:** The `Name` column in the current format might not be very useful in our analysis.\n",
        "Since the name contains both the brand name and the model name of the vehicle, the column would have too many unique values to be useful in prediction. Can we extract that information from that column? "
      ]
    },
    {
      "cell_type": "markdown",
      "metadata": {
        "id": "Z1bl_6rztOS1"
      },
      "source": [
        "* **Hint:** With 2041 unique names, car names are not going to be great predictors of the price in our current data. But we can process this column to extract important information for example brand name."
      ]
    },
    {
      "cell_type": "code",
      "execution_count": null,
      "metadata": {
        "id": "_DYACQrnj6w2"
      },
      "outputs": [],
      "source": []
    },
    {
      "cell_type": "markdown",
      "metadata": {
        "id": "2N4fU3TetOS3"
      },
      "source": [
        "### **Missing value treatment**"
      ]
    },
    {
      "cell_type": "code",
      "execution_count": null,
      "metadata": {
        "id": "fqZJaxW-tOS4"
      },
      "outputs": [],
      "source": []
    },
    {
      "cell_type": "markdown",
      "source": [
        "## **Important Insights from EDA and Data Preprocessing**\n",
        "\n",
        "What are the the most important observations and insights from the data based on the EDA and Data Preprocessing performed?"
      ],
      "metadata": {
        "id": "xo3_cE10kLy_"
      }
    },
    {
      "cell_type": "markdown",
      "metadata": {
        "id": "Rzh8pcvmtOS8"
      },
      "source": [
        "## **Building Various Models**\n",
        "\n",
        "\n",
        "1. What we want to predict is the \"Price\". We will use the normalized version 'price_log' for modeling.\n",
        "2. Before we proceed to the model, we'll have to encode categorical features. We will drop categorical features like Name. \n",
        "3. We'll split the data into train and test, to be able to evaluate the model that we build on the train data.\n",
        "4. Build Regression models using train data.\n",
        "5. Evaluate the model performance."
      ]
    },
    {
      "cell_type": "markdown",
      "metadata": {
        "id": "0L-oAMItxLP-"
      },
      "source": [
        "### **Split the Data**"
      ]
    },
    {
      "cell_type": "markdown",
      "metadata": {
        "id": "Aat-Ne-ZVL3e"
      },
      "source": [
        "<li>Step1: Seperating the indepdent variables (X) and the dependent variable (y). \n",
        "<li>Step2: Encode the categorical variables in X using pd.dummies.\n",
        "<li>Step3: Split the data into train and test using train_test_split."
      ]
    },
    {
      "cell_type": "markdown",
      "metadata": {
        "id": "Cwh_IhfqVL3f"
      },
      "source": [
        "**Question:** \n",
        "\n",
        "1. Why we should drop 'Name','Price','price_log','Kilometers_Driven' from X before splitting?"
      ]
    },
    {
      "cell_type": "code",
      "execution_count": null,
      "metadata": {
        "id": "a4bHKtUwj6w3"
      },
      "outputs": [],
      "source": []
    },
    {
      "cell_type": "markdown",
      "metadata": {
        "id": "gaj2riZFVL3g"
      },
      "source": [
        "For Regression Problems, some of the algorithms used are :<br>\n",
        "\n",
        "**1) Linear Regression** <br>\n",
        "**2) Ridge / Lasso Regression** <br>\n",
        "**3) Decision Trees** <br>\n",
        "**4) Random Forest** <br>"
      ]
    },
    {
      "cell_type": "code",
      "execution_count": null,
      "metadata": {
        "id": "hJpC5Zrej6w3"
      },
      "outputs": [],
      "source": []
    },
    {
      "cell_type": "markdown",
      "metadata": {
        "id": "sw0dMSgetOS_"
      },
      "source": [
        "### **Hyperparameter Tuning: Decision Tree**"
      ]
    },
    {
      "cell_type": "code",
      "execution_count": null,
      "metadata": {
        "id": "AxBifx0pj6w3"
      },
      "outputs": [],
      "source": []
    },
    {
      "cell_type": "markdown",
      "metadata": {
        "id": "5jssEF5eIrdH"
      },
      "source": [
        "**Feature Importance**"
      ]
    },
    {
      "cell_type": "code",
      "execution_count": null,
      "metadata": {
        "id": "OdzQWq8WtOTA"
      },
      "outputs": [],
      "source": []
    },
    {
      "cell_type": "markdown",
      "metadata": {
        "id": "18uxHTy2tOTB"
      },
      "source": [
        "### **Hyperparameter Tuning: Random Forest**"
      ]
    },
    {
      "cell_type": "code",
      "execution_count": null,
      "metadata": {
        "id": "HSBtYgpctOTC"
      },
      "outputs": [],
      "source": []
    },
    {
      "cell_type": "markdown",
      "metadata": {
        "id": "ItsgSUyiIrdI"
      },
      "source": [
        "**Feature Importance**"
      ]
    },
    {
      "cell_type": "code",
      "execution_count": null,
      "metadata": {
        "id": "9khvM2ZhtOTC"
      },
      "outputs": [],
      "source": []
    },
    {
      "cell_type": "markdown",
      "metadata": {
        "id": "PVzow_ehj6w6"
      },
      "source": [
        "## **Conclusions and Recommendations**"
      ]
    },
    {
      "cell_type": "markdown",
      "metadata": {
        "id": "kPywjJo6uS-9"
      },
      "source": [
        "**1. Comparison of various techniques and their relative performance based on chosen Metric (Measure of success):** \n",
        "- How do different techniques perform? Which one is performing relatively better? Is there scope to improve the performance further?"
      ]
    },
    {
      "cell_type": "markdown",
      "metadata": {
        "id": "5mtOvTtEY7sM"
      },
      "source": [
        "**2. Refined insights:** \n",
        "- What are the most meaningful insights relevant to the problem?"
      ]
    },
    {
      "cell_type": "markdown",
      "metadata": {
        "id": "HNJHd0R7Y7sM"
      },
      "source": [
        "**3. Proposal for the final solution design:** \n",
        "- What model do you propose to be adopted? Why is this the best solution to adopt?"
      ]
    }
  ],
  "metadata": {
    "colab": {
      "provenance": []
    },
    "kernelspec": {
      "display_name": "Python 3 (ipykernel)",
      "language": "python",
      "name": "python3"
    },
    "language_info": {
      "codemirror_mode": {
        "name": "ipython",
        "version": 3
      },
      "file_extension": ".py",
      "mimetype": "text/x-python",
      "name": "python",
      "nbconvert_exporter": "python",
      "pygments_lexer": "ipython3",
      "version": "3.9.13"
    }
  },
  "nbformat": 4,
  "nbformat_minor": 0
}